{
 "cells": [
  {
   "cell_type": "markdown",
   "metadata": {},
   "source": [
    "# Análise de dados de encomendas depositadas no equipamento \"Boca de Lobo\""
   ]
  },
  {
   "cell_type": "markdown",
   "metadata": {},
   "source": [
    "Esta análise visa demonstrar as principais informações referentes às encomendas depositadas no equipamento \"Boca de Lobo\", instalado na estação do MetrôRio Estácio de Sá."
   ]
  },
  {
   "cell_type": "code",
   "execution_count": 18,
   "metadata": {
    "id": "b4FysaoUgAS2"
   },
   "outputs": [],
   "source": [
    "import pandas as pd\n",
    "import numpy as np\n",
    "import matplotlib.pyplot as plt\n",
    "from datetime import datetime, timedelta\n",
    "import json"
   ]
  },
  {
   "cell_type": "markdown",
   "metadata": {},
   "source": [
    "Url informada em arquivo json. Não disponibilizarei publicamente"
   ]
  },
  {
   "cell_type": "code",
   "execution_count": 19,
   "metadata": {},
   "outputs": [],
   "source": [
    "with open('url.json') as f:\n",
    "    data = json.load(f)"
   ]
  },
  {
   "cell_type": "markdown",
   "metadata": {},
   "source": [
    "O dataset é disponibilizado no formato xlsx pela aplicação.\n",
    "A aplicação utiliza um banco SQLite e disponibiliza um arquivo xlsx com todos os registros desde a instalação da máquina.\n",
    "A obtenção do arquivo xlsx é feito atráves do serviço ngrok"
   ]
  },
  {
   "cell_type": "code",
   "execution_count": 20,
   "metadata": {},
   "outputs": [],
   "source": [
    "url_boca_de_lobo = data['url']"
   ]
  },
  {
   "cell_type": "code",
   "execution_count": 21,
   "metadata": {
    "id": "cXV2hTkmgC9_"
   },
   "outputs": [
    {
     "name": "stdout",
     "output_type": "stream",
     "text": [
      "CPU times: total: 0 ns\n",
      "Wall time: 0 ns\n"
     ]
    }
   ],
   "source": [
    "%time\n",
    "encomendas_depositadas = pd.read_excel(url_boca_de_lobo)"
   ]
  },
  {
   "cell_type": "code",
   "execution_count": 22,
   "metadata": {
    "colab": {
     "base_uri": "https://localhost:8080/",
     "height": 423
    },
    "id": "OAhst2T6gnyd",
    "outputId": "363499bd-3530-465c-e78d-d744343414b6"
   },
   "outputs": [
    {
     "data": {
      "text/html": [
       "<div>\n",
       "<style scoped>\n",
       "    .dataframe tbody tr th:only-of-type {\n",
       "        vertical-align: middle;\n",
       "    }\n",
       "\n",
       "    .dataframe tbody tr th {\n",
       "        vertical-align: top;\n",
       "    }\n",
       "\n",
       "    .dataframe thead th {\n",
       "        text-align: right;\n",
       "    }\n",
       "</style>\n",
       "<table border=\"1\" class=\"dataframe\">\n",
       "  <thead>\n",
       "    <tr style=\"text-align: right;\">\n",
       "      <th></th>\n",
       "      <th>Hash</th>\n",
       "      <th>Entregador</th>\n",
       "      <th>Entregadora</th>\n",
       "      <th>Cidade</th>\n",
       "      <th>UF</th>\n",
       "      <th>Data</th>\n",
       "      <th>Gaveta</th>\n",
       "      <th>QR</th>\n",
       "      <th>Código da encomenda</th>\n",
       "    </tr>\n",
       "  </thead>\n",
       "  <tbody>\n",
       "    <tr>\n",
       "      <th>0</th>\n",
       "      <td>09668303d2a0a4cd17d753eed1a69fdb0ee09053</td>\n",
       "      <td>VVVGG</td>\n",
       "      <td>CN22</td>\n",
       "      <td>Rio de Janeiro</td>\n",
       "      <td>RJ</td>\n",
       "      <td>2020-09-22T12:30:33.418Z</td>\n",
       "      <td>1</td>\n",
       "      <td>NaN</td>\n",
       "      <td>VGYY</td>\n",
       "    </tr>\n",
       "    <tr>\n",
       "      <th>1</th>\n",
       "      <td>09668303d2a0a4cd17d753eed1a69fdb0ee09053</td>\n",
       "      <td>VVVGG</td>\n",
       "      <td>CN22</td>\n",
       "      <td>Rio de Janeiro</td>\n",
       "      <td>RJ</td>\n",
       "      <td>2020-09-22T12:30:33.418Z</td>\n",
       "      <td>1</td>\n",
       "      <td>NaN</td>\n",
       "      <td>TGGG</td>\n",
       "    </tr>\n",
       "    <tr>\n",
       "      <th>2</th>\n",
       "      <td>021a346c02719de2fb04fc422002e353eb30f1f2</td>\n",
       "      <td>TGF</td>\n",
       "      <td>CN22</td>\n",
       "      <td>Rio de Janeiro</td>\n",
       "      <td>RJ</td>\n",
       "      <td>2020-09-22T12:31:37.749Z</td>\n",
       "      <td>2</td>\n",
       "      <td>NaN</td>\n",
       "      <td>YYU</td>\n",
       "    </tr>\n",
       "    <tr>\n",
       "      <th>3</th>\n",
       "      <td>1347b82264fb6d841bfaca3b16ed75fd00ba495b</td>\n",
       "      <td>ALEX</td>\n",
       "      <td>B2W</td>\n",
       "      <td>Rio de Janeiro</td>\n",
       "      <td>RJ</td>\n",
       "      <td>2020-09-22T12:36:08.053Z</td>\n",
       "      <td>1</td>\n",
       "      <td>NaN</td>\n",
       "      <td>GF445CFGBR</td>\n",
       "    </tr>\n",
       "    <tr>\n",
       "      <th>4</th>\n",
       "      <td>1347b82264fb6d841bfaca3b16ed75fd00ba495b</td>\n",
       "      <td>ALEX</td>\n",
       "      <td>B2W</td>\n",
       "      <td>Rio de Janeiro</td>\n",
       "      <td>RJ</td>\n",
       "      <td>2020-09-22T12:36:08.053Z</td>\n",
       "      <td>1</td>\n",
       "      <td>NaN</td>\n",
       "      <td>TVGG65BR</td>\n",
       "    </tr>\n",
       "    <tr>\n",
       "      <th>...</th>\n",
       "      <td>...</td>\n",
       "      <td>...</td>\n",
       "      <td>...</td>\n",
       "      <td>...</td>\n",
       "      <td>...</td>\n",
       "      <td>...</td>\n",
       "      <td>...</td>\n",
       "      <td>...</td>\n",
       "      <td>...</td>\n",
       "    </tr>\n",
       "    <tr>\n",
       "      <th>122901</th>\n",
       "      <td>152096c5d90bda9d16db9477a696c8277a25cebe</td>\n",
       "      <td>ANDRE VINICIUS</td>\n",
       "      <td>Loggi</td>\n",
       "      <td>Rio de Janeiro</td>\n",
       "      <td>RJ</td>\n",
       "      <td>2023-04-28T17:49:15.612Z</td>\n",
       "      <td>0</td>\n",
       "      <td>AM050659188LO</td>\n",
       "      <td>NaN</td>\n",
       "    </tr>\n",
       "    <tr>\n",
       "      <th>122902</th>\n",
       "      <td>152096c5d90bda9d16db9477a696c8277a25cebe</td>\n",
       "      <td>ANDRE VINICIUS</td>\n",
       "      <td>Loggi</td>\n",
       "      <td>Rio de Janeiro</td>\n",
       "      <td>RJ</td>\n",
       "      <td>2023-04-28T17:49:15.612Z</td>\n",
       "      <td>0</td>\n",
       "      <td>PAC0238998991</td>\n",
       "      <td>NaN</td>\n",
       "    </tr>\n",
       "    <tr>\n",
       "      <th>122903</th>\n",
       "      <td>152096c5d90bda9d16db9477a696c8277a25cebe</td>\n",
       "      <td>ANDRE VINICIUS</td>\n",
       "      <td>Loggi</td>\n",
       "      <td>Rio de Janeiro</td>\n",
       "      <td>RJ</td>\n",
       "      <td>2023-04-28T17:49:15.612Z</td>\n",
       "      <td>0</td>\n",
       "      <td>4972751585429</td>\n",
       "      <td>NaN</td>\n",
       "    </tr>\n",
       "    <tr>\n",
       "      <th>122904</th>\n",
       "      <td>152096c5d90bda9d16db9477a696c8277a25cebe</td>\n",
       "      <td>ANDRE VINICIUS</td>\n",
       "      <td>Loggi</td>\n",
       "      <td>Rio de Janeiro</td>\n",
       "      <td>RJ</td>\n",
       "      <td>2023-04-28T17:49:15.612Z</td>\n",
       "      <td>0</td>\n",
       "      <td>AM050592603LO</td>\n",
       "      <td>NaN</td>\n",
       "    </tr>\n",
       "    <tr>\n",
       "      <th>122905</th>\n",
       "      <td>559fd0822ccd0925969f6ab0d7e5560079ac953c</td>\n",
       "      <td>ANDRE VINICIUS</td>\n",
       "      <td>AWR</td>\n",
       "      <td>Rio de Janeiro</td>\n",
       "      <td>RJ</td>\n",
       "      <td>2023-04-28T17:50:07.781Z</td>\n",
       "      <td>0</td>\n",
       "      <td>20913190</td>\n",
       "      <td>NaN</td>\n",
       "    </tr>\n",
       "  </tbody>\n",
       "</table>\n",
       "<p>122906 rows × 9 columns</p>\n",
       "</div>"
      ],
      "text/plain": [
       "                                            Hash      Entregador Entregadora  \\\n",
       "0       09668303d2a0a4cd17d753eed1a69fdb0ee09053           VVVGG        CN22   \n",
       "1       09668303d2a0a4cd17d753eed1a69fdb0ee09053           VVVGG        CN22   \n",
       "2       021a346c02719de2fb04fc422002e353eb30f1f2             TGF        CN22   \n",
       "3       1347b82264fb6d841bfaca3b16ed75fd00ba495b            ALEX         B2W   \n",
       "4       1347b82264fb6d841bfaca3b16ed75fd00ba495b            ALEX         B2W   \n",
       "...                                          ...             ...         ...   \n",
       "122901  152096c5d90bda9d16db9477a696c8277a25cebe  ANDRE VINICIUS       Loggi   \n",
       "122902  152096c5d90bda9d16db9477a696c8277a25cebe  ANDRE VINICIUS       Loggi   \n",
       "122903  152096c5d90bda9d16db9477a696c8277a25cebe  ANDRE VINICIUS       Loggi   \n",
       "122904  152096c5d90bda9d16db9477a696c8277a25cebe  ANDRE VINICIUS       Loggi   \n",
       "122905  559fd0822ccd0925969f6ab0d7e5560079ac953c  ANDRE VINICIUS         AWR   \n",
       "\n",
       "                Cidade  UF                      Data  Gaveta             QR  \\\n",
       "0       Rio de Janeiro  RJ  2020-09-22T12:30:33.418Z       1            NaN   \n",
       "1       Rio de Janeiro  RJ  2020-09-22T12:30:33.418Z       1            NaN   \n",
       "2       Rio de Janeiro  RJ  2020-09-22T12:31:37.749Z       2            NaN   \n",
       "3       Rio de Janeiro  RJ  2020-09-22T12:36:08.053Z       1            NaN   \n",
       "4       Rio de Janeiro  RJ  2020-09-22T12:36:08.053Z       1            NaN   \n",
       "...                ...  ..                       ...     ...            ...   \n",
       "122901  Rio de Janeiro  RJ  2023-04-28T17:49:15.612Z       0  AM050659188LO   \n",
       "122902  Rio de Janeiro  RJ  2023-04-28T17:49:15.612Z       0  PAC0238998991   \n",
       "122903  Rio de Janeiro  RJ  2023-04-28T17:49:15.612Z       0  4972751585429   \n",
       "122904  Rio de Janeiro  RJ  2023-04-28T17:49:15.612Z       0  AM050592603LO   \n",
       "122905  Rio de Janeiro  RJ  2023-04-28T17:50:07.781Z       0       20913190   \n",
       "\n",
       "       Código da encomenda  \n",
       "0                     VGYY  \n",
       "1                     TGGG  \n",
       "2                      YYU  \n",
       "3               GF445CFGBR  \n",
       "4                 TVGG65BR  \n",
       "...                    ...  \n",
       "122901                 NaN  \n",
       "122902                 NaN  \n",
       "122903                 NaN  \n",
       "122904                 NaN  \n",
       "122905                 NaN  \n",
       "\n",
       "[122906 rows x 9 columns]"
      ]
     },
     "execution_count": 22,
     "metadata": {},
     "output_type": "execute_result"
    }
   ],
   "source": [
    "encomendas_depositadas"
   ]
  },
  {
   "cell_type": "code",
   "execution_count": 23,
   "metadata": {
    "id": "rLp82u5SkbaU"
   },
   "outputs": [],
   "source": [
    "encomendas = encomendas_depositadas.filter(items=['Entregador', 'Entregadora', 'Cidade', 'UF', 'Data', 'Gaveta', 'Código da encomenda'])"
   ]
  },
  {
   "cell_type": "code",
   "execution_count": 24,
   "metadata": {
    "id": "fLC72KGB1umw"
   },
   "outputs": [],
   "source": [
    "encomendas = encomendas.rename(columns={'Código da encomenda':'Codigo'})"
   ]
  },
  {
   "cell_type": "markdown",
   "metadata": {},
   "source": [
    "A data do sistema é disponibilizada com o fuso UTC 0. Além disso, é necessário converter o formato de data disponibilizado."
   ]
  },
  {
   "cell_type": "code",
   "execution_count": 25,
   "metadata": {
    "id": "9dMolO3KLdbm"
   },
   "outputs": [],
   "source": [
    "data_formatada = []\n",
    "erro_hora = timedelta(hours=3) #hora do sistema está considerando UTC 0. Conversão para UTC-3\n",
    "\n",
    "for i in range(len(encomendas['Data'])):\n",
    "  data_formatada.append((datetime(int(encomendas.Data[i][:4]), int(encomendas.Data[i][5:7]), int(encomendas.Data[i][8:10]), int(encomendas['Data'][i][11:13]), int(encomendas['Data'][i][14:16])) - erro_hora))\n"
   ]
  },
  {
   "cell_type": "code",
   "execution_count": 26,
   "metadata": {
    "id": "0q8gE4nU5uMw"
   },
   "outputs": [],
   "source": [
    "encomendas['data'] = data_formatada"
   ]
  },
  {
   "cell_type": "code",
   "execution_count": 44,
   "metadata": {
    "id": "JbJYXjD09jt0"
   },
   "outputs": [],
   "source": [
    "encomendas.drop(columns={'Data'}, inplace=True)"
   ]
  },
  {
   "cell_type": "code",
   "execution_count": 45,
   "metadata": {
    "id": "pUau9GmxoTDw"
   },
   "outputs": [
    {
     "data": {
      "text/plain": [
       "Int64Index([2020, 2021, 2022, 2023], dtype='int64')"
      ]
     },
     "execution_count": 45,
     "metadata": {},
     "output_type": "execute_result"
    }
   ],
   "source": [
    "encomenda_ano = encomendas.data.dt.year.value_counts().sort_index()\n",
    "encomenda_ano.index"
   ]
  },
  {
   "cell_type": "code",
   "execution_count": 46,
   "metadata": {
    "id": "Sy1VfGKwo9cj"
   },
   "outputs": [
    {
     "data": {
      "image/png": "[encoded data removed]",
      "text/plain": [
       "<Figure size 640x480 with 1 Axes>"
      ]
     },
     "metadata": {},
     "output_type": "display_data"
    }
   ],
   "source": [
    "x = encomenda_ano.index.astype(str)\n",
    "height = encomenda_ano.values\n",
    "\n",
    "\n",
    "bar_graph = plt.bar(x, height=height, color='red')\n",
    "plt.xlabel(\"Ano\")\n",
    "plt.ylabel(\"Qnt de encomendas\")\n",
    "plt.gca().set_title('Encomendas por Ano')\n",
    "plt.bar_label(bar_graph, fontsize=10)\n",
    "plt.margins(x=0.01, y=0.1)\n",
    "plt.show()"
   ]
  },
  {
   "cell_type": "code",
   "execution_count": 47,
   "metadata": {
    "id": "GuunHHnDE9pY"
   },
   "outputs": [
    {
     "data": {
      "image/png": "[encoded data removed]",
      "text/plain": [
       "<Figure size 640x480 with 1 Axes>"
      ]
     },
     "metadata": {},
     "output_type": "display_data"
    }
   ],
   "source": [
    "plt.hist(encomendas.data.dt.hour, bins= 50, color='red')\n",
    "plt.show()"
   ]
  },
  {
   "cell_type": "code",
   "execution_count": 48,
   "metadata": {
    "id": "KH9wbRVEyyUi"
   },
   "outputs": [
    {
     "data": {
      "image/png": "[encoded data removed]",
      "text/plain": [
       "<Figure size 640x480 with 1 Axes>"
      ]
     },
     "metadata": {},
     "output_type": "display_data"
    }
   ],
   "source": [
    "encomenda_hora = encomendas.data.dt.hour.value_counts().sort_index()\n",
    "\n",
    "x_hora = encomenda_hora.index.astype(str)\n",
    "height_hora = encomenda_hora.values\n",
    "\n",
    "\n",
    "bar_graph_hora = plt.bar(x_hora, height=height_hora, color='red')\n",
    "plt.xlabel(\"Hora\")\n",
    "plt.ylabel(\"Qnt de encomendas\")\n",
    "plt.gca().set_title('Encomendas por Horário')\n",
    "plt.margins(x=0.01, y=0.1)\n",
    "plt.show()"
   ]
  },
  {
   "cell_type": "code",
   "execution_count": 49,
   "metadata": {
    "id": "WMv-N2JPpbMS"
   },
   "outputs": [
    {
     "data": {
      "text/html": [
       "<div>\n",
       "<style scoped>\n",
       "    .dataframe tbody tr th:only-of-type {\n",
       "        vertical-align: middle;\n",
       "    }\n",
       "\n",
       "    .dataframe tbody tr th {\n",
       "        vertical-align: top;\n",
       "    }\n",
       "\n",
       "    .dataframe thead th {\n",
       "        text-align: right;\n",
       "    }\n",
       "</style>\n",
       "<table border=\"1\" class=\"dataframe\">\n",
       "  <thead>\n",
       "    <tr style=\"text-align: right;\">\n",
       "      <th></th>\n",
       "      <th>Entregadora</th>\n",
       "    </tr>\n",
       "  </thead>\n",
       "  <tbody>\n",
       "    <tr>\n",
       "      <th>B2W</th>\n",
       "      <td>12930</td>\n",
       "    </tr>\n",
       "    <tr>\n",
       "      <th>Sequoia</th>\n",
       "      <td>12078</td>\n",
       "    </tr>\n",
       "    <tr>\n",
       "      <th>Total</th>\n",
       "      <td>9990</td>\n",
       "    </tr>\n",
       "    <tr>\n",
       "      <th>Loggi</th>\n",
       "      <td>8926</td>\n",
       "    </tr>\n",
       "    <tr>\n",
       "      <th>PARCEIRO</th>\n",
       "      <td>6056</td>\n",
       "    </tr>\n",
       "    <tr>\n",
       "      <th>TOTAL EXPRESS</th>\n",
       "      <td>5538</td>\n",
       "    </tr>\n",
       "    <tr>\n",
       "      <th>Jadlog</th>\n",
       "      <td>4730</td>\n",
       "    </tr>\n",
       "    <tr>\n",
       "      <th>Fast Serv</th>\n",
       "      <td>4344</td>\n",
       "    </tr>\n",
       "    <tr>\n",
       "      <th>DHL</th>\n",
       "      <td>3780</td>\n",
       "    </tr>\n",
       "    <tr>\n",
       "      <th>Flash Courrier</th>\n",
       "      <td>3302</td>\n",
       "    </tr>\n",
       "    <tr>\n",
       "      <th>SHIPPIFY</th>\n",
       "      <td>3294</td>\n",
       "    </tr>\n",
       "    <tr>\n",
       "      <th>PARCEIROS</th>\n",
       "      <td>2628</td>\n",
       "    </tr>\n",
       "    <tr>\n",
       "      <th>Correios</th>\n",
       "      <td>2426</td>\n",
       "    </tr>\n",
       "    <tr>\n",
       "      <th>Carriers</th>\n",
       "      <td>2322</td>\n",
       "    </tr>\n",
       "    <tr>\n",
       "      <th>PARCEIRO SPOT</th>\n",
       "      <td>1790</td>\n",
       "    </tr>\n",
       "    <tr>\n",
       "      <th>GFL</th>\n",
       "      <td>1754</td>\n",
       "    </tr>\n",
       "    <tr>\n",
       "      <th>MERCADO LIVRE</th>\n",
       "      <td>1752</td>\n",
       "    </tr>\n",
       "    <tr>\n",
       "      <th>SHOPEE</th>\n",
       "      <td>1402</td>\n",
       "    </tr>\n",
       "    <tr>\n",
       "      <th>JET</th>\n",
       "      <td>1282</td>\n",
       "    </tr>\n",
       "    <tr>\n",
       "      <th>GFL TRANSPORTADORA</th>\n",
       "      <td>1274</td>\n",
       "    </tr>\n",
       "  </tbody>\n",
       "</table>\n",
       "</div>"
      ],
      "text/plain": [
       "                    Entregadora\n",
       "B2W                       12930\n",
       "Sequoia                   12078\n",
       "Total                      9990\n",
       "Loggi                      8926\n",
       "PARCEIRO                   6056\n",
       "TOTAL EXPRESS              5538\n",
       "Jadlog                     4730\n",
       "Fast Serv                  4344\n",
       "DHL                        3780\n",
       "Flash Courrier             3302\n",
       "SHIPPIFY                   3294\n",
       "PARCEIROS                  2628\n",
       "Correios                   2426\n",
       "Carriers                   2322\n",
       "PARCEIRO SPOT              1790\n",
       "GFL                        1754\n",
       "MERCADO LIVRE              1752\n",
       "SHOPEE                     1402\n",
       "JET                        1282\n",
       "GFL TRANSPORTADORA         1274"
      ]
     },
     "execution_count": 49,
     "metadata": {},
     "output_type": "execute_result"
    }
   ],
   "source": [
    "entregadoras = encomendas.Entregadora.value_counts().to_frame()\n",
    "entregadoras.head(20)"
   ]
  },
  {
   "cell_type": "code",
   "execution_count": 50,
   "metadata": {
    "id": "Ra-nEcg1lbMy"
   },
   "outputs": [],
   "source": [
    "#entregadoras.head(20).to_csv('entregadoras_rev1.csv', sep=';')"
   ]
  },
  {
   "cell_type": "code",
   "execution_count": 51,
   "metadata": {
    "id": "ypH_2AJntJdn"
   },
   "outputs": [
    {
     "data": {
      "image/png": "[encoded data removed]",
      "text/plain": [
       "<Figure size 640x480 with 1 Axes>"
      ]
     },
     "metadata": {},
     "output_type": "display_data"
    }
   ],
   "source": [
    "x_empresas = entregadoras.head(20).index\n",
    "width_empresas = entregadoras.head(20)['Entregadora']\n",
    "\n",
    "bar_empresas = plt.barh(x_empresas, width=width_empresas)\n",
    "plt.gca().invert_yaxis()\n",
    "plt.gca().set_title('Encomendas por Empresas (20 maiores)')\n",
    "plt.xlabel(\"Qnt de encomendas\")\n",
    "plt.ylabel(\"Encomendas\")\n",
    "plt.bar_label(bar_empresas, fontsize=10)\n",
    "plt.margins(x=0.1, y=0.1)\n",
    "plt.show()"
   ]
  },
  {
   "cell_type": "code",
   "execution_count": 52,
   "metadata": {
    "id": "BuoTQHC30ePz"
   },
   "outputs": [
    {
     "data": {
      "text/plain": [
       "Hash                   122906\n",
       "Entregador             122896\n",
       "Entregadora            119696\n",
       "Cidade                 122906\n",
       "UF                     122906\n",
       "Data                   122906\n",
       "Gaveta                 122906\n",
       "QR                      98892\n",
       "Código da encomenda     24006\n",
       "dtype: int64"
      ]
     },
     "execution_count": 52,
     "metadata": {},
     "output_type": "execute_result"
    }
   ],
   "source": [
    "encomendas_depositadas.count()"
   ]
  },
  {
   "cell_type": "code",
   "execution_count": 53,
   "metadata": {
    "id": "I4FzKCPx07RC"
   },
   "outputs": [
    {
     "data": {
      "text/html": [
       "<div>\n",
       "<style scoped>\n",
       "    .dataframe tbody tr th:only-of-type {\n",
       "        vertical-align: middle;\n",
       "    }\n",
       "\n",
       "    .dataframe tbody tr th {\n",
       "        vertical-align: top;\n",
       "    }\n",
       "\n",
       "    .dataframe thead th {\n",
       "        text-align: right;\n",
       "    }\n",
       "</style>\n",
       "<table border=\"1\" class=\"dataframe\">\n",
       "  <thead>\n",
       "    <tr style=\"text-align: right;\">\n",
       "      <th></th>\n",
       "      <th>0</th>\n",
       "    </tr>\n",
       "  </thead>\n",
       "  <tbody>\n",
       "    <tr>\n",
       "      <th>QR</th>\n",
       "      <td>80.5</td>\n",
       "    </tr>\n",
       "    <tr>\n",
       "      <th>Teclado</th>\n",
       "      <td>19.5</td>\n",
       "    </tr>\n",
       "  </tbody>\n",
       "</table>\n",
       "</div>"
      ],
      "text/plain": [
       "            0\n",
       "QR       80.5\n",
       "Teclado  19.5"
      ]
     },
     "execution_count": 53,
     "metadata": {},
     "output_type": "execute_result"
    }
   ],
   "source": [
    "percent_qr = round(encomendas_depositadas.count().QR /  encomendas_depositadas.count().Hash,3) * 100\n",
    "percent_noqr = round(100 - percent_qr, 3)\n",
    "\n",
    "\n",
    "qr_control = pd.DataFrame.from_dict({\"QR\":percent_qr, \"Teclado\":percent_noqr}, orient='index')\n",
    "qr_control"
   ]
  },
  {
   "cell_type": "code",
   "execution_count": 54,
   "metadata": {
    "id": "xlDpIJlz39hH"
   },
   "outputs": [
    {
     "data": {
      "text/plain": [
       "array([80.5, 19.5])"
      ]
     },
     "execution_count": 54,
     "metadata": {},
     "output_type": "execute_result"
    }
   ],
   "source": [
    "qr_control.values.ravel()"
   ]
  },
  {
   "cell_type": "code",
   "execution_count": 55,
   "metadata": {
    "id": "e75g8X403J9z"
   },
   "outputs": [
    {
     "data": {
      "image/png": "[encoded data removed]",
      "text/plain": [
       "<Figure size 640x480 with 1 Axes>"
      ]
     },
     "metadata": {},
     "output_type": "display_data"
    }
   ],
   "source": [
    "x_qr = qr_control.index\n",
    "values_qr = qr_control.values.ravel()\n",
    "\n",
    "bar_qr = plt.barh(x_qr, width=values_qr, color='red')\n",
    "plt.gca().invert_yaxis()\n",
    "plt.gca().set_title('Tipo de inserção')\n",
    "plt.xlabel(\"Percentual\")\n",
    "plt.ylabel(\"Tipo\")\n",
    "plt.bar_label(bar_qr, fontsize=10)\n",
    "plt.margins(x=0.1, y=0.1)\n",
    "plt.show()"
   ]
  },
  {
   "cell_type": "code",
   "execution_count": 39,
   "metadata": {
    "id": "XJj-48xHYQT0"
   },
   "outputs": [
    {
     "data": {
      "text/plain": [
       "datetime.date(2023, 4, 28)"
      ]
     },
     "execution_count": 39,
     "metadata": {},
     "output_type": "execute_result"
    }
   ],
   "source": [
    "dia_atual = datetime.now().date()\n",
    "dia_atual"
   ]
  },
  {
   "cell_type": "code",
   "execution_count": 56,
   "metadata": {
    "id": "yk2tQTcebE1j"
   },
   "outputs": [
    {
     "data": {
      "text/html": [
       "<div>\n",
       "<style scoped>\n",
       "    .dataframe tbody tr th:only-of-type {\n",
       "        vertical-align: middle;\n",
       "    }\n",
       "\n",
       "    .dataframe tbody tr th {\n",
       "        vertical-align: top;\n",
       "    }\n",
       "\n",
       "    .dataframe thead th {\n",
       "        text-align: right;\n",
       "    }\n",
       "</style>\n",
       "<table border=\"1\" class=\"dataframe\">\n",
       "  <thead>\n",
       "    <tr style=\"text-align: right;\">\n",
       "      <th></th>\n",
       "      <th>Entregador</th>\n",
       "      <th>Entregadora</th>\n",
       "      <th>Cidade</th>\n",
       "      <th>UF</th>\n",
       "      <th>Gaveta</th>\n",
       "      <th>Codigo</th>\n",
       "      <th>data</th>\n",
       "    </tr>\n",
       "  </thead>\n",
       "  <tbody>\n",
       "    <tr>\n",
       "      <th>61405</th>\n",
       "      <td>ANDRESSA</td>\n",
       "      <td>GFL</td>\n",
       "      <td>Rio de Janeiro</td>\n",
       "      <td>RJ</td>\n",
       "      <td>0</td>\n",
       "      <td>NaN</td>\n",
       "      <td>2023-04-28 09:51:00</td>\n",
       "    </tr>\n",
       "    <tr>\n",
       "      <th>61406</th>\n",
       "      <td>ANDRESSA</td>\n",
       "      <td>GFL</td>\n",
       "      <td>Rio de Janeiro</td>\n",
       "      <td>RJ</td>\n",
       "      <td>0</td>\n",
       "      <td>NaN</td>\n",
       "      <td>2023-04-28 09:51:00</td>\n",
       "    </tr>\n",
       "    <tr>\n",
       "      <th>61407</th>\n",
       "      <td>ANDRESSA</td>\n",
       "      <td>GFL</td>\n",
       "      <td>Rio de Janeiro</td>\n",
       "      <td>RJ</td>\n",
       "      <td>0</td>\n",
       "      <td>NaN</td>\n",
       "      <td>2023-04-28 09:51:00</td>\n",
       "    </tr>\n",
       "    <tr>\n",
       "      <th>61408</th>\n",
       "      <td>ANDRESSA</td>\n",
       "      <td>GFL</td>\n",
       "      <td>Rio de Janeiro</td>\n",
       "      <td>RJ</td>\n",
       "      <td>0</td>\n",
       "      <td>NaN</td>\n",
       "      <td>2023-04-28 09:51:00</td>\n",
       "    </tr>\n",
       "    <tr>\n",
       "      <th>61409</th>\n",
       "      <td>ANDRESSA</td>\n",
       "      <td>GFL</td>\n",
       "      <td>Rio de Janeiro</td>\n",
       "      <td>RJ</td>\n",
       "      <td>0</td>\n",
       "      <td>02205178</td>\n",
       "      <td>2023-04-28 09:51:00</td>\n",
       "    </tr>\n",
       "    <tr>\n",
       "      <th>...</th>\n",
       "      <td>...</td>\n",
       "      <td>...</td>\n",
       "      <td>...</td>\n",
       "      <td>...</td>\n",
       "      <td>...</td>\n",
       "      <td>...</td>\n",
       "      <td>...</td>\n",
       "    </tr>\n",
       "    <tr>\n",
       "      <th>122901</th>\n",
       "      <td>ANDRE VINICIUS</td>\n",
       "      <td>Loggi</td>\n",
       "      <td>Rio de Janeiro</td>\n",
       "      <td>RJ</td>\n",
       "      <td>0</td>\n",
       "      <td>NaN</td>\n",
       "      <td>2023-04-28 14:49:00</td>\n",
       "    </tr>\n",
       "    <tr>\n",
       "      <th>122902</th>\n",
       "      <td>ANDRE VINICIUS</td>\n",
       "      <td>Loggi</td>\n",
       "      <td>Rio de Janeiro</td>\n",
       "      <td>RJ</td>\n",
       "      <td>0</td>\n",
       "      <td>NaN</td>\n",
       "      <td>2023-04-28 14:49:00</td>\n",
       "    </tr>\n",
       "    <tr>\n",
       "      <th>122903</th>\n",
       "      <td>ANDRE VINICIUS</td>\n",
       "      <td>Loggi</td>\n",
       "      <td>Rio de Janeiro</td>\n",
       "      <td>RJ</td>\n",
       "      <td>0</td>\n",
       "      <td>NaN</td>\n",
       "      <td>2023-04-28 14:49:00</td>\n",
       "    </tr>\n",
       "    <tr>\n",
       "      <th>122904</th>\n",
       "      <td>ANDRE VINICIUS</td>\n",
       "      <td>Loggi</td>\n",
       "      <td>Rio de Janeiro</td>\n",
       "      <td>RJ</td>\n",
       "      <td>0</td>\n",
       "      <td>NaN</td>\n",
       "      <td>2023-04-28 14:49:00</td>\n",
       "    </tr>\n",
       "    <tr>\n",
       "      <th>122905</th>\n",
       "      <td>ANDRE VINICIUS</td>\n",
       "      <td>AWR</td>\n",
       "      <td>Rio de Janeiro</td>\n",
       "      <td>RJ</td>\n",
       "      <td>0</td>\n",
       "      <td>NaN</td>\n",
       "      <td>2023-04-28 14:50:00</td>\n",
       "    </tr>\n",
       "  </tbody>\n",
       "</table>\n",
       "<p>96 rows × 7 columns</p>\n",
       "</div>"
      ],
      "text/plain": [
       "            Entregador Entregadora          Cidade  UF  Gaveta    Codigo  \\\n",
       "61405         ANDRESSA         GFL  Rio de Janeiro  RJ       0       NaN   \n",
       "61406         ANDRESSA         GFL  Rio de Janeiro  RJ       0       NaN   \n",
       "61407         ANDRESSA         GFL  Rio de Janeiro  RJ       0       NaN   \n",
       "61408         ANDRESSA         GFL  Rio de Janeiro  RJ       0       NaN   \n",
       "61409         ANDRESSA         GFL  Rio de Janeiro  RJ       0  02205178   \n",
       "...                ...         ...             ...  ..     ...       ...   \n",
       "122901  ANDRE VINICIUS       Loggi  Rio de Janeiro  RJ       0       NaN   \n",
       "122902  ANDRE VINICIUS       Loggi  Rio de Janeiro  RJ       0       NaN   \n",
       "122903  ANDRE VINICIUS       Loggi  Rio de Janeiro  RJ       0       NaN   \n",
       "122904  ANDRE VINICIUS       Loggi  Rio de Janeiro  RJ       0       NaN   \n",
       "122905  ANDRE VINICIUS         AWR  Rio de Janeiro  RJ       0       NaN   \n",
       "\n",
       "                      data  \n",
       "61405  2023-04-28 09:51:00  \n",
       "61406  2023-04-28 09:51:00  \n",
       "61407  2023-04-28 09:51:00  \n",
       "61408  2023-04-28 09:51:00  \n",
       "61409  2023-04-28 09:51:00  \n",
       "...                    ...  \n",
       "122901 2023-04-28 14:49:00  \n",
       "122902 2023-04-28 14:49:00  \n",
       "122903 2023-04-28 14:49:00  \n",
       "122904 2023-04-28 14:49:00  \n",
       "122905 2023-04-28 14:50:00  \n",
       "\n",
       "[96 rows x 7 columns]"
      ]
     },
     "execution_count": 56,
     "metadata": {},
     "output_type": "execute_result"
    }
   ],
   "source": [
    "encomendas_atual = encomendas[encomendas.data.dt.date == dia_atual]\n",
    "encomendas_atual"
   ]
  },
  {
   "cell_type": "code",
   "execution_count": 58,
   "metadata": {},
   "outputs": [],
   "source": [
    "import warnings\n",
    "warnings.filterwarnings('ignore')"
   ]
  },
  {
   "cell_type": "code",
   "execution_count": 59,
   "metadata": {
    "id": "RITSg1H9erIs"
   },
   "outputs": [
    {
     "data": {
      "text/html": [
       "<div>\n",
       "<style scoped>\n",
       "    .dataframe tbody tr th:only-of-type {\n",
       "        vertical-align: middle;\n",
       "    }\n",
       "\n",
       "    .dataframe tbody tr th {\n",
       "        vertical-align: top;\n",
       "    }\n",
       "\n",
       "    .dataframe thead th {\n",
       "        text-align: right;\n",
       "    }\n",
       "</style>\n",
       "<table border=\"1\" class=\"dataframe\">\n",
       "  <thead>\n",
       "    <tr style=\"text-align: right;\">\n",
       "      <th></th>\n",
       "      <th>Entregador</th>\n",
       "      <th>Entregadora</th>\n",
       "      <th>Cidade</th>\n",
       "      <th>UF</th>\n",
       "      <th>Gaveta</th>\n",
       "      <th>Codigo</th>\n",
       "      <th>data</th>\n",
       "      <th>hora</th>\n",
       "    </tr>\n",
       "  </thead>\n",
       "  <tbody>\n",
       "    <tr>\n",
       "      <th>61405</th>\n",
       "      <td>ANDRESSA</td>\n",
       "      <td>GFL</td>\n",
       "      <td>Rio de Janeiro</td>\n",
       "      <td>RJ</td>\n",
       "      <td>0</td>\n",
       "      <td>NaN</td>\n",
       "      <td>2023-04-28 09:51:00</td>\n",
       "      <td>09:51:00</td>\n",
       "    </tr>\n",
       "    <tr>\n",
       "      <th>61406</th>\n",
       "      <td>ANDRESSA</td>\n",
       "      <td>GFL</td>\n",
       "      <td>Rio de Janeiro</td>\n",
       "      <td>RJ</td>\n",
       "      <td>0</td>\n",
       "      <td>NaN</td>\n",
       "      <td>2023-04-28 09:51:00</td>\n",
       "      <td>09:51:00</td>\n",
       "    </tr>\n",
       "    <tr>\n",
       "      <th>61407</th>\n",
       "      <td>ANDRESSA</td>\n",
       "      <td>GFL</td>\n",
       "      <td>Rio de Janeiro</td>\n",
       "      <td>RJ</td>\n",
       "      <td>0</td>\n",
       "      <td>NaN</td>\n",
       "      <td>2023-04-28 09:51:00</td>\n",
       "      <td>09:51:00</td>\n",
       "    </tr>\n",
       "    <tr>\n",
       "      <th>61408</th>\n",
       "      <td>ANDRESSA</td>\n",
       "      <td>GFL</td>\n",
       "      <td>Rio de Janeiro</td>\n",
       "      <td>RJ</td>\n",
       "      <td>0</td>\n",
       "      <td>NaN</td>\n",
       "      <td>2023-04-28 09:51:00</td>\n",
       "      <td>09:51:00</td>\n",
       "    </tr>\n",
       "    <tr>\n",
       "      <th>61409</th>\n",
       "      <td>ANDRESSA</td>\n",
       "      <td>GFL</td>\n",
       "      <td>Rio de Janeiro</td>\n",
       "      <td>RJ</td>\n",
       "      <td>0</td>\n",
       "      <td>02205178</td>\n",
       "      <td>2023-04-28 09:51:00</td>\n",
       "      <td>09:51:00</td>\n",
       "    </tr>\n",
       "    <tr>\n",
       "      <th>...</th>\n",
       "      <td>...</td>\n",
       "      <td>...</td>\n",
       "      <td>...</td>\n",
       "      <td>...</td>\n",
       "      <td>...</td>\n",
       "      <td>...</td>\n",
       "      <td>...</td>\n",
       "      <td>...</td>\n",
       "    </tr>\n",
       "    <tr>\n",
       "      <th>122901</th>\n",
       "      <td>ANDRE VINICIUS</td>\n",
       "      <td>Loggi</td>\n",
       "      <td>Rio de Janeiro</td>\n",
       "      <td>RJ</td>\n",
       "      <td>0</td>\n",
       "      <td>NaN</td>\n",
       "      <td>2023-04-28 14:49:00</td>\n",
       "      <td>14:49:00</td>\n",
       "    </tr>\n",
       "    <tr>\n",
       "      <th>122902</th>\n",
       "      <td>ANDRE VINICIUS</td>\n",
       "      <td>Loggi</td>\n",
       "      <td>Rio de Janeiro</td>\n",
       "      <td>RJ</td>\n",
       "      <td>0</td>\n",
       "      <td>NaN</td>\n",
       "      <td>2023-04-28 14:49:00</td>\n",
       "      <td>14:49:00</td>\n",
       "    </tr>\n",
       "    <tr>\n",
       "      <th>122903</th>\n",
       "      <td>ANDRE VINICIUS</td>\n",
       "      <td>Loggi</td>\n",
       "      <td>Rio de Janeiro</td>\n",
       "      <td>RJ</td>\n",
       "      <td>0</td>\n",
       "      <td>NaN</td>\n",
       "      <td>2023-04-28 14:49:00</td>\n",
       "      <td>14:49:00</td>\n",
       "    </tr>\n",
       "    <tr>\n",
       "      <th>122904</th>\n",
       "      <td>ANDRE VINICIUS</td>\n",
       "      <td>Loggi</td>\n",
       "      <td>Rio de Janeiro</td>\n",
       "      <td>RJ</td>\n",
       "      <td>0</td>\n",
       "      <td>NaN</td>\n",
       "      <td>2023-04-28 14:49:00</td>\n",
       "      <td>14:49:00</td>\n",
       "    </tr>\n",
       "    <tr>\n",
       "      <th>122905</th>\n",
       "      <td>ANDRE VINICIUS</td>\n",
       "      <td>AWR</td>\n",
       "      <td>Rio de Janeiro</td>\n",
       "      <td>RJ</td>\n",
       "      <td>0</td>\n",
       "      <td>NaN</td>\n",
       "      <td>2023-04-28 14:50:00</td>\n",
       "      <td>14:50:00</td>\n",
       "    </tr>\n",
       "  </tbody>\n",
       "</table>\n",
       "<p>96 rows × 8 columns</p>\n",
       "</div>"
      ],
      "text/plain": [
       "            Entregador Entregadora          Cidade  UF  Gaveta    Codigo  \\\n",
       "61405         ANDRESSA         GFL  Rio de Janeiro  RJ       0       NaN   \n",
       "61406         ANDRESSA         GFL  Rio de Janeiro  RJ       0       NaN   \n",
       "61407         ANDRESSA         GFL  Rio de Janeiro  RJ       0       NaN   \n",
       "61408         ANDRESSA         GFL  Rio de Janeiro  RJ       0       NaN   \n",
       "61409         ANDRESSA         GFL  Rio de Janeiro  RJ       0  02205178   \n",
       "...                ...         ...             ...  ..     ...       ...   \n",
       "122901  ANDRE VINICIUS       Loggi  Rio de Janeiro  RJ       0       NaN   \n",
       "122902  ANDRE VINICIUS       Loggi  Rio de Janeiro  RJ       0       NaN   \n",
       "122903  ANDRE VINICIUS       Loggi  Rio de Janeiro  RJ       0       NaN   \n",
       "122904  ANDRE VINICIUS       Loggi  Rio de Janeiro  RJ       0       NaN   \n",
       "122905  ANDRE VINICIUS         AWR  Rio de Janeiro  RJ       0       NaN   \n",
       "\n",
       "                      data      hora  \n",
       "61405  2023-04-28 09:51:00  09:51:00  \n",
       "61406  2023-04-28 09:51:00  09:51:00  \n",
       "61407  2023-04-28 09:51:00  09:51:00  \n",
       "61408  2023-04-28 09:51:00  09:51:00  \n",
       "61409  2023-04-28 09:51:00  09:51:00  \n",
       "...                    ...       ...  \n",
       "122901 2023-04-28 14:49:00  14:49:00  \n",
       "122902 2023-04-28 14:49:00  14:49:00  \n",
       "122903 2023-04-28 14:49:00  14:49:00  \n",
       "122904 2023-04-28 14:49:00  14:49:00  \n",
       "122905 2023-04-28 14:50:00  14:50:00  \n",
       "\n",
       "[96 rows x 8 columns]"
      ]
     },
     "execution_count": 59,
     "metadata": {},
     "output_type": "execute_result"
    }
   ],
   "source": [
    "encomendas_atual['hora'] = encomendas_atual.data.dt.time\n",
    "encomendas_atual"
   ]
  },
  {
   "cell_type": "code",
   "execution_count": 60,
   "metadata": {
    "id": "a0G2LlhAcylV"
   },
   "outputs": [],
   "source": [
    "#encomendas_atual.to_csv('encomendas_atual.csv', sep=';')"
   ]
  }
 ],
 "metadata": {
  "colab": {
   "provenance": []
  },
  "kernelspec": {
   "display_name": "Python 3 (ipykernel)",
   "language": "python",
   "name": "python3"
  },
  "language_info": {
   "codemirror_mode": {
    "name": "ipython",
    "version": 3
   },
   "file_extension": ".py",
   "mimetype": "text/x-python",
   "name": "python",
   "nbconvert_exporter": "python",
   "pygments_lexer": "ipython3",
   "version": "3.10.9"
  }
 },
 "nbformat": 4,
 "nbformat_minor": 1
}
